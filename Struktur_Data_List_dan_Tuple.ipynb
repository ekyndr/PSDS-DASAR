{
  "nbformat": 4,
  "nbformat_minor": 0,
  "metadata": {
    "colab": {
      "provenance": []
    },
    "kernelspec": {
      "name": "python3",
      "display_name": "Python 3"
    },
    "language_info": {
      "name": "python"
    }
  },
  "cells": [
    {
      "cell_type": "markdown",
      "source": [
        "**Eky Andryan**\n",
        "\n",
        "**2100015038**"
      ],
      "metadata": {
        "id": "CBMzpG96AdfM"
      }
    },
    {
      "cell_type": "markdown",
      "source": [
        "# **STRUKTUR DATA LIST**"
      ],
      "metadata": {
        "id": "dUS5YF3ZAXO8"
      }
    },
    {
      "cell_type": "markdown",
      "source": [
        "# List"
      ],
      "metadata": {
        "id": "O65Nj2D-Aq6K"
      }
    },
    {
      "cell_type": "markdown",
      "source": [
        "list adalah jenis kumpulan data terurut(ordered sequence), bisa diubah elemennya(mutable), bisa ditambahkan elemen baru atau menghapus elemen (changeable), dan merupakan salah satu variabel yang sering digunakan pada Pyhton. Serupa, namun tak sama dengan array pada bahasa pemograman lainnya. Bedanya, elemen List pada Python tidak harus memiliki tipe data yang sama. Mendeklarasikan List cukup mudah dengan kurung siku dan elemen yang dipisahkan dengan koma.\n",
        "\n",
        "Setiap data didalamnya dapat diakses dengan indeks yang dimulai dari 0."
      ],
      "metadata": {
        "id": "aQ47mkVoA54T"
      }
    },
    {
      "cell_type": "code",
      "source": [
        "#Contoh List\n",
        "L1 = [1, 4, 2, 13]\n",
        "print(type(L1))"
      ],
      "metadata": {
        "colab": {
          "base_uri": "https://localhost:8080/"
        },
        "id": "qaAbQPiQAbhh",
        "outputId": "a021d158-07c4-4d86-c680-d65f848983df"
      },
      "execution_count": null,
      "outputs": [
        {
          "output_type": "stream",
          "name": "stdout",
          "text": [
            "<class 'list'>\n"
          ]
        }
      ]
    },
    {
      "cell_type": "code",
      "source": [
        "L2 = [\"a\", \"Python\", 3]\n",
        "print(type(L2))"
      ],
      "metadata": {
        "colab": {
          "base_uri": "https://localhost:8080/"
        },
        "id": "6hcVayAZBEeH",
        "outputId": "7ac179a0-0f65-4735-fadb-d508815f3bf8"
      },
      "execution_count": null,
      "outputs": [
        {
          "output_type": "stream",
          "name": "stdout",
          "text": [
            "<class 'list'>\n"
          ]
        }
      ]
    },
    {
      "cell_type": "code",
      "source": [
        "print(L1)\n",
        "print(L2)"
      ],
      "metadata": {
        "colab": {
          "base_uri": "https://localhost:8080/"
        },
        "id": "nbbql-E7BJHC",
        "outputId": "9ea627a0-20a2-4a6e-fd5d-6a4e08b7bb73"
      },
      "execution_count": null,
      "outputs": [
        {
          "output_type": "stream",
          "name": "stdout",
          "text": [
            "[1, 4, 2, 13]\n",
            "['a', 'Python', 3]\n"
          ]
        }
      ]
    },
    {
      "cell_type": "markdown",
      "source": [
        "**Indeks di python (List, Tuple) mulai dari 0**"
      ],
      "metadata": {
        "id": "l95Fyh18BWb6"
      }
    },
    {
      "cell_type": "code",
      "source": [
        "#sifat-sifat List\n",
        "#Trurut/ordered\n",
        "print(\"Memanggil List L1 dengan indeks urutan:\", L1[0:3])\n",
        "#bisa diganti/mutable\n",
        "L1[1] = 2\n",
        "print(\"List L1 setelah diganti elemennya\", L1)\n",
        "\n",
        "L1 = [1, \"dua\", True, 2+3j]\n",
        "\n",
        "#dapat diindeks/slicing\n",
        "print(\"slicing list L1:\", L1[3])\n",
        "\n",
        "#dapat diinjikan duplikasi\n",
        "L1 = [1, \"dua\", True, 2+3j, 2+3j]\n",
        "print(\"Duplikasi pada List L1:\", L1)\n",
        "\n",
        "#dapat mengubah data dengan menggant elemen tertentu\n",
        "L1 = [1, \"dua\", True, 2+3j]\n",
        "L1[2]=3\n",
        "print(\"Data setelah diubah:\", L1)\n",
        "\n",
        "#dapat menambahkan elemen baru pada data\n",
        "L1 = [1, \"dua\", True, 2+3j]\n",
        "L1.append(20)\n",
        "print(\"Data setelah ditambahkan elemennya:\", L1)\n",
        "\n",
        "#dapat menghapus elemen pada data (remove() = menghapus berdasarkan nama objek)\n",
        "L1 = [1, \"dua\", True, 2+3j]\n",
        "L1.remove(2+3j)\n",
        "print(\"Data setelah dihapus elemennya:\", L1)"
      ],
      "metadata": {
        "colab": {
          "base_uri": "https://localhost:8080/"
        },
        "id": "-i2BrPWBBYlc",
        "outputId": "eb928902-5a4c-47aa-8cf7-436a80182cd3"
      },
      "execution_count": null,
      "outputs": [
        {
          "output_type": "stream",
          "name": "stdout",
          "text": [
            "Memanggil List L1 dengan indeks urutan: [1, 4, 2]\n",
            "List L1 setelah diganti elemennya [1, 2, 2, 13]\n",
            "slicing list L1: (2+3j)\n",
            "Duplikasi pada List L1: [1, 'dua', True, (2+3j), (2+3j)]\n",
            "Data setelah diubah: [1, 'dua', 3, (2+3j)]\n",
            "Data setelah ditambahkan elemennya: [1, 'dua', True, (2+3j), 20]\n",
            "Data setelah dihapus elemennya: [1, 'dua', True]\n"
          ]
        }
      ]
    },
    {
      "cell_type": "code",
      "source": [
        "#menambahkan data menggunakan fungsi extend(menambahkan elemen baru pada list namun elemen tersebut ditambahkan secara individual)\n",
        "L1 = [1, \"dua\", True, 2+3j]\n",
        "L1.extend(\"nanas\")\n",
        "print(L1)"
      ],
      "metadata": {
        "colab": {
          "base_uri": "https://localhost:8080/"
        },
        "id": "oVHkQkqVBkRI",
        "outputId": "1095a62f-dd15-4c73-e982-9ac0431ded5e"
      },
      "execution_count": null,
      "outputs": [
        {
          "output_type": "stream",
          "name": "stdout",
          "text": [
            "[1, 'dua', True, (2+3j), 'n', 'a', 'n', 'a', 's']\n"
          ]
        }
      ]
    },
    {
      "cell_type": "code",
      "source": [
        "L1 = [1, \"dua\", True, 2+3j]\n",
        "L1.extend([\"nanas\"])\n",
        "print(L1)"
      ],
      "metadata": {
        "colab": {
          "base_uri": "https://localhost:8080/"
        },
        "id": "IN4TSvqRBmMn",
        "outputId": "693d054d-873f-4fe5-983b-f335f9b0b684"
      },
      "execution_count": null,
      "outputs": [
        {
          "output_type": "stream",
          "name": "stdout",
          "text": [
            "[1, 'dua', True, (2+3j), 'nanas']\n"
          ]
        }
      ]
    },
    {
      "cell_type": "code",
      "source": [
        "#menambahkan data menggunakan fungsi insert(menambahkan elemen baru dilist pada indeks tertentu)\n",
        "L1 = [1, \"dua\", True, 2+3j]\n",
        "L1.insert(2, 5)\n",
        "print(L1)"
      ],
      "metadata": {
        "colab": {
          "base_uri": "https://localhost:8080/"
        },
        "id": "BIF2Ag_1Bqgd",
        "outputId": "852a3a99-f4e7-477e-e7f2-b0c5c01c8f31"
      },
      "execution_count": null,
      "outputs": [
        {
          "output_type": "stream",
          "name": "stdout",
          "text": [
            "[1, 'dua', 5, True, (2+3j)]\n"
          ]
        }
      ]
    },
    {
      "cell_type": "code",
      "source": [
        "#menghapus elemen dari list menggunakan fungsi pop() (menghapus berdasrkan indeks)\n",
        "L1 = [1, \"dua\", True, 2+3j]\n",
        "L1.pop(2)\n",
        "print(L1)"
      ],
      "metadata": {
        "colab": {
          "base_uri": "https://localhost:8080/"
        },
        "id": "d9Qqw0gaBtyo",
        "outputId": "653565d6-2bd0-479b-e081-8457e4cea624"
      },
      "execution_count": null,
      "outputs": [
        {
          "output_type": "stream",
          "name": "stdout",
          "text": [
            "[1, 'dua', (2+3j)]\n"
          ]
        }
      ]
    },
    {
      "cell_type": "code",
      "source": [
        "L1 = [1, \"dua\", True, 2+3j]\n",
        "L1.pop()\n",
        "print(L1)"
      ],
      "metadata": {
        "colab": {
          "base_uri": "https://localhost:8080/"
        },
        "id": "CfK9DYQdBxX_",
        "outputId": "0241bbca-0cb5-463f-a032-1cddf01e2deb"
      },
      "execution_count": null,
      "outputs": [
        {
          "output_type": "stream",
          "name": "stdout",
          "text": [
            "[1, 'dua', True]\n"
          ]
        }
      ]
    },
    {
      "cell_type": "markdown",
      "source": [
        "**Latihan 1**"
      ],
      "metadata": {
        "id": "DeGxQ79BB3Lh"
      }
    },
    {
      "cell_type": "markdown",
      "source": [
        "Buatlah list kalian sendiri"
      ],
      "metadata": {
        "id": "Yd6a_GxrB5vU"
      }
    },
    {
      "cell_type": "code",
      "source": [
        "tanggal = [14, 4, 2023]\n",
        "print(type(tanggal))\n",
        "\n",
        "nama = [\"aku\", \"kamu\", 2]\n",
        "print(type(nama))\n",
        "\n",
        "print(tanggal)\n",
        "print(nama)"
      ],
      "metadata": {
        "id": "mPctjcEKB0XW",
        "colab": {
          "base_uri": "https://localhost:8080/"
        },
        "outputId": "7146713c-132e-4a12-cc48-70725ce6c5f8"
      },
      "execution_count": 17,
      "outputs": [
        {
          "output_type": "stream",
          "name": "stdout",
          "text": [
            "<class 'list'>\n",
            "<class 'list'>\n",
            "[14, 4, 2023]\n",
            "['aku', 'kamu', 2]\n"
          ]
        }
      ]
    },
    {
      "cell_type": "markdown",
      "source": [
        "**Latihan 2**"
      ],
      "metadata": {
        "id": "XYBjmnVsCDad"
      }
    },
    {
      "cell_type": "markdown",
      "source": [
        "ganti elemen yang ada pada list yang kalian buat"
      ],
      "metadata": {
        "id": "QzP9h_MnCLai"
      }
    },
    {
      "cell_type": "code",
      "source": [
        "nama[0] = \"mantan\"\n",
        "print(\"List nama setelah diganti elemennya\", nama)"
      ],
      "metadata": {
        "id": "LJT2yaUnCIiu",
        "colab": {
          "base_uri": "https://localhost:8080/"
        },
        "outputId": "da618b17-943e-4525-ab19-754f2c633a9d"
      },
      "execution_count": 18,
      "outputs": [
        {
          "output_type": "stream",
          "name": "stdout",
          "text": [
            "List nama setelah diganti elemennya ['mantan', 'kamu', 2]\n"
          ]
        }
      ]
    },
    {
      "cell_type": "markdown",
      "source": [
        "# Tuple"
      ],
      "metadata": {
        "id": "xflv8A1LCjSY"
      }
    },
    {
      "cell_type": "markdown",
      "source": [
        "Tuple adalah jenis dari struktur data yang tidak dapat diuba elemennya dan juga tidak bisa ditambahkan atau dihapus elemennya. Umumnya tuple digunakan untuk data yang bersifat sekali tulis, dapat dieksekusi lebih cepat. Tiple didefinisikan dengan kurung dan elemen yang dipisahkan dengan koma."
      ],
      "metadata": {
        "id": "iTahlLjYChmz"
      }
    },
    {
      "cell_type": "code",
      "source": [
        "#Contoh Tuple\n",
        "T1 = (1, \"dua\", True, 1+2j)\n",
        "print(\"ini adalah tuple\", T1)"
      ],
      "metadata": {
        "colab": {
          "base_uri": "https://localhost:8080/"
        },
        "id": "W2q-cl32Cio5",
        "outputId": "7ea5ade4-7570-4d32-cd00-fbbd98374d66"
      },
      "execution_count": null,
      "outputs": [
        {
          "output_type": "stream",
          "name": "stdout",
          "text": [
            "ini adalah tuple (1, 'dua', True, (1+2j))\n"
          ]
        }
      ]
    },
    {
      "cell_type": "code",
      "source": [
        "T11 = 1, \"dua\", True, 1+2j\n",
        "print(\"ini adalah tuple\", T11)"
      ],
      "metadata": {
        "colab": {
          "base_uri": "https://localhost:8080/"
        },
        "id": "g4djrrMqC3_7",
        "outputId": "3b112bfd-1ef6-41cf-b6ce-04fb2043bb9d"
      },
      "execution_count": null,
      "outputs": [
        {
          "output_type": "stream",
          "name": "stdout",
          "text": [
            "ini adalah tuple (1, 'dua', True, (1+2j))\n"
          ]
        }
      ]
    },
    {
      "cell_type": "code",
      "source": [
        "#Menampilkan tipe struktur data\n",
        "type(T1)"
      ],
      "metadata": {
        "colab": {
          "base_uri": "https://localhost:8080/"
        },
        "id": "IsqXqD4iC5f9",
        "outputId": "2930eaaa-39a9-4421-c498-f5f1bf17b623"
      },
      "execution_count": null,
      "outputs": [
        {
          "output_type": "execute_result",
          "data": {
            "text/plain": [
              "tuple"
            ]
          },
          "metadata": {},
          "execution_count": 12
        }
      ]
    },
    {
      "cell_type": "code",
      "source": [
        "type(T11)"
      ],
      "metadata": {
        "colab": {
          "base_uri": "https://localhost:8080/"
        },
        "id": "RgHj2jHFC9ot",
        "outputId": "138a602b-cddc-40b5-b5b1-ac3a27f30e5f"
      },
      "execution_count": null,
      "outputs": [
        {
          "output_type": "execute_result",
          "data": {
            "text/plain": [
              "tuple"
            ]
          },
          "metadata": {},
          "execution_count": 13
        }
      ]
    },
    {
      "cell_type": "markdown",
      "source": [
        "**Sifat-sifat Tuple**"
      ],
      "metadata": {
        "id": "HhCMFKuWDCYW"
      }
    },
    {
      "cell_type": "code",
      "source": [
        "#Terurut/Ordered\n",
        "T1[0:3]"
      ],
      "metadata": {
        "colab": {
          "base_uri": "https://localhost:8080/"
        },
        "id": "jxhixUeSDEIq",
        "outputId": "fe61275c-c8b1-4679-c508-5fd5918c3368"
      },
      "execution_count": null,
      "outputs": [
        {
          "output_type": "execute_result",
          "data": {
            "text/plain": [
              "(1, 'dua', True)"
            ]
          },
          "metadata": {},
          "execution_count": 14
        }
      ]
    },
    {
      "cell_type": "code",
      "source": [
        "#Tidak bisa diganti/imutable\n",
        "T1[2] = \"manusia\""
      ],
      "metadata": {
        "colab": {
          "base_uri": "https://localhost:8080/",
          "height": 183
        },
        "id": "Yo00vkslDPyM",
        "outputId": "bf6a4a9f-a63d-4a10-e0cb-ff6cfab2e0d4"
      },
      "execution_count": null,
      "outputs": [
        {
          "output_type": "error",
          "ename": "TypeError",
          "evalue": "ignored",
          "traceback": [
            "\u001b[0;31m---------------------------------------------------------------------------\u001b[0m",
            "\u001b[0;31mTypeError\u001b[0m                                 Traceback (most recent call last)",
            "\u001b[0;32m<ipython-input-15-27de9fcb059b>\u001b[0m in \u001b[0;36m<cell line: 2>\u001b[0;34m()\u001b[0m\n\u001b[1;32m      1\u001b[0m \u001b[0;31m#Tidak bisa diganti/imutable\u001b[0m\u001b[0;34m\u001b[0m\u001b[0;34m\u001b[0m\u001b[0m\n\u001b[0;32m----> 2\u001b[0;31m \u001b[0mT1\u001b[0m\u001b[0;34m[\u001b[0m\u001b[0;36m2\u001b[0m\u001b[0;34m]\u001b[0m \u001b[0;34m=\u001b[0m \u001b[0;34m\"manusia\"\u001b[0m\u001b[0;34m\u001b[0m\u001b[0;34m\u001b[0m\u001b[0m\n\u001b[0m",
            "\u001b[0;31mTypeError\u001b[0m: 'tuple' object does not support item assignment"
          ]
        }
      ]
    },
    {
      "cell_type": "code",
      "source": [
        "#dapat diineks/slicing\n",
        "print(\"elemen kedua dari tuple T1 adalah\", T1[1])"
      ],
      "metadata": {
        "colab": {
          "base_uri": "https://localhost:8080/"
        },
        "id": "7FfZDqoWEJu5",
        "outputId": "c95c4e21-71a2-42dc-c826-9af8a439230e"
      },
      "execution_count": null,
      "outputs": [
        {
          "output_type": "stream",
          "name": "stdout",
          "text": [
            "elemen kedua dari tuple T1 adalah dua\n"
          ]
        }
      ]
    },
    {
      "cell_type": "code",
      "source": [
        "#Dapat diijinkan duplikasi\n",
        "T2 = (3, 2, 4, True, 2.4)\n",
        "T2"
      ],
      "metadata": {
        "colab": {
          "base_uri": "https://localhost:8080/"
        },
        "id": "LHlVUtwXERZf",
        "outputId": "e7defd53-5289-4ab6-bd06-2e53953e5963"
      },
      "execution_count": null,
      "outputs": [
        {
          "output_type": "execute_result",
          "data": {
            "text/plain": [
              "(3, 2, 4, True, 2.4)"
            ]
          },
          "metadata": {},
          "execution_count": 17
        }
      ]
    },
    {
      "cell_type": "code",
      "source": [
        "#Tidak dapat menambahkan elemen baru\n",
        "T1 = (1, \"dua\", True, 1+2j)\n",
        "print(f' tuple\\t: {T1}')"
      ],
      "metadata": {
        "colab": {
          "base_uri": "https://localhost:8080/"
        },
        "id": "m4DqA-DTES5L",
        "outputId": "af63ca0f-8d4b-4dfd-9dab-0ca439995d08"
      },
      "execution_count": null,
      "outputs": [
        {
          "output_type": "stream",
          "name": "stdout",
          "text": [
            " tuple\t: (1, 'dua', True, (1+2j))\n"
          ]
        }
      ]
    },
    {
      "cell_type": "code",
      "source": [
        "T1.append(10)\n",
        "T1.append(50)\n",
        "print(f' tuple\\t: {T1}')"
      ],
      "metadata": {
        "colab": {
          "base_uri": "https://localhost:8080/",
          "height": 200
        },
        "id": "CZnbOkRfEZFZ",
        "outputId": "3badcc70-754c-4fdb-ec31-0f4ff073e8b5"
      },
      "execution_count": null,
      "outputs": [
        {
          "output_type": "error",
          "ename": "AttributeError",
          "evalue": "ignored",
          "traceback": [
            "\u001b[0;31m---------------------------------------------------------------------------\u001b[0m",
            "\u001b[0;31mAttributeError\u001b[0m                            Traceback (most recent call last)",
            "\u001b[0;32m<ipython-input-19-5498d5de3a6d>\u001b[0m in \u001b[0;36m<cell line: 1>\u001b[0;34m()\u001b[0m\n\u001b[0;32m----> 1\u001b[0;31m \u001b[0mT1\u001b[0m\u001b[0;34m.\u001b[0m\u001b[0mappend\u001b[0m\u001b[0;34m(\u001b[0m\u001b[0;36m10\u001b[0m\u001b[0;34m)\u001b[0m\u001b[0;34m\u001b[0m\u001b[0;34m\u001b[0m\u001b[0m\n\u001b[0m\u001b[1;32m      2\u001b[0m \u001b[0mT1\u001b[0m\u001b[0;34m.\u001b[0m\u001b[0mappend\u001b[0m\u001b[0;34m(\u001b[0m\u001b[0;36m50\u001b[0m\u001b[0;34m)\u001b[0m\u001b[0;34m\u001b[0m\u001b[0;34m\u001b[0m\u001b[0m\n\u001b[1;32m      3\u001b[0m \u001b[0mprint\u001b[0m\u001b[0;34m(\u001b[0m\u001b[0;34mf' tuple\\t: {T1}'\u001b[0m\u001b[0;34m)\u001b[0m\u001b[0;34m\u001b[0m\u001b[0;34m\u001b[0m\u001b[0m\n",
            "\u001b[0;31mAttributeError\u001b[0m: 'tuple' object has no attribute 'append'"
          ]
        }
      ]
    },
    {
      "cell_type": "code",
      "source": [
        "#tidak dapat menghapus elemen\n",
        "T1 = (1, \"dua\", True, 1+2j)\n",
        "print(f' tuple\\t: {T1}')"
      ],
      "metadata": {
        "colab": {
          "base_uri": "https://localhost:8080/"
        },
        "id": "nPQ8Wyf7Ecs1",
        "outputId": "4f97f335-6f14-4fb2-f995-8fe3f33ba829"
      },
      "execution_count": null,
      "outputs": [
        {
          "output_type": "stream",
          "name": "stdout",
          "text": [
            " tuple\t: (1, 'dua', True, (1+2j))\n"
          ]
        }
      ]
    },
    {
      "cell_type": "code",
      "source": [
        "T1.remove(1)\n",
        "T1.remove(\"dua\")\n",
        "print(f' tuple\\t: {T1}')"
      ],
      "metadata": {
        "colab": {
          "base_uri": "https://localhost:8080/",
          "height": 200
        },
        "id": "f8XzREjaEr-f",
        "outputId": "13ecc195-1aa2-4694-dcb5-460052b79304"
      },
      "execution_count": null,
      "outputs": [
        {
          "output_type": "error",
          "ename": "AttributeError",
          "evalue": "ignored",
          "traceback": [
            "\u001b[0;31m---------------------------------------------------------------------------\u001b[0m",
            "\u001b[0;31mAttributeError\u001b[0m                            Traceback (most recent call last)",
            "\u001b[0;32m<ipython-input-21-a669a75ff9f0>\u001b[0m in \u001b[0;36m<cell line: 1>\u001b[0;34m()\u001b[0m\n\u001b[0;32m----> 1\u001b[0;31m \u001b[0mT1\u001b[0m\u001b[0;34m.\u001b[0m\u001b[0mremove\u001b[0m\u001b[0;34m(\u001b[0m\u001b[0;36m1\u001b[0m\u001b[0;34m)\u001b[0m\u001b[0;34m\u001b[0m\u001b[0;34m\u001b[0m\u001b[0m\n\u001b[0m\u001b[1;32m      2\u001b[0m \u001b[0mT1\u001b[0m\u001b[0;34m.\u001b[0m\u001b[0mremove\u001b[0m\u001b[0;34m(\u001b[0m\u001b[0;34m\"dua\"\u001b[0m\u001b[0;34m)\u001b[0m\u001b[0;34m\u001b[0m\u001b[0;34m\u001b[0m\u001b[0m\n\u001b[1;32m      3\u001b[0m \u001b[0mprint\u001b[0m\u001b[0;34m(\u001b[0m\u001b[0;34mf' tuple\\t: {T1}'\u001b[0m\u001b[0;34m)\u001b[0m\u001b[0;34m\u001b[0m\u001b[0;34m\u001b[0m\u001b[0m\n",
            "\u001b[0;31mAttributeError\u001b[0m: 'tuple' object has no attribute 'remove'"
          ]
        }
      ]
    },
    {
      "cell_type": "code",
      "source": [
        "#menggabungkan Tuple\n",
        "T3 = T1 + T2\n",
        "T3"
      ],
      "metadata": {
        "colab": {
          "base_uri": "https://localhost:8080/"
        },
        "id": "GKbGirPMExJV",
        "outputId": "92aca9f3-dc4d-477e-fa06-3377f23ba582"
      },
      "execution_count": null,
      "outputs": [
        {
          "output_type": "execute_result",
          "data": {
            "text/plain": [
              "(1, 'dua', True, (1+2j), 3, 2, 4, True, 2.4)"
            ]
          },
          "metadata": {},
          "execution_count": 22
        }
      ]
    },
    {
      "cell_type": "markdown",
      "source": [
        "**Latihan 1**"
      ],
      "metadata": {
        "id": "A2kFuZV6E1BF"
      }
    },
    {
      "cell_type": "markdown",
      "source": [
        "buatkan tuplemu sendiri"
      ],
      "metadata": {
        "id": "c_WvbY79E5H3"
      }
    },
    {
      "cell_type": "code",
      "source": [
        "Blackpink = (\"Lisa\", \"Jennie\", \"Jisoo\", \"Rosie\")\n",
        "print(\"ini adalah member blackpink\", Blackpink)"
      ],
      "metadata": {
        "id": "Qxm35hVTEysU",
        "colab": {
          "base_uri": "https://localhost:8080/"
        },
        "outputId": "34c175aa-91d5-45db-956c-257960f40fcf"
      },
      "execution_count": 19,
      "outputs": [
        {
          "output_type": "stream",
          "name": "stdout",
          "text": [
            "ini adalah member blackpink ('Lisa', 'Jennie', 'Jisoo', 'Rosie')\n"
          ]
        }
      ]
    },
    {
      "cell_type": "markdown",
      "source": [
        "**Latihan 2**"
      ],
      "metadata": {
        "id": "V9BvQXggE-Pz"
      }
    },
    {
      "cell_type": "code",
      "source": [
        "#buatkan tuple kedua\n",
        "Babymonster = (\"Chiquita\", \"Pharita\", \"Ahyeon\", \"Asa\", \"Rora\", \"Haram\", \"Ruka\")\n",
        "print(\"ini adalah member babymonster\", Babymonster)"
      ],
      "metadata": {
        "id": "Dd4cKwleFJ7z",
        "colab": {
          "base_uri": "https://localhost:8080/"
        },
        "outputId": "35f1d7ac-b52b-4d72-9e06-f9ab1738893a"
      },
      "execution_count": 22,
      "outputs": [
        {
          "output_type": "stream",
          "name": "stdout",
          "text": [
            "ini adalah member babymonster ('Chiquita', 'Pharita', 'Ahyeon', 'Asa', 'Rora', 'Haram', 'Ruka')\n"
          ]
        }
      ]
    },
    {
      "cell_type": "code",
      "source": [
        "#Gabungkan\n",
        "YG = Blackpink + Babymonster\n",
        "YG"
      ],
      "metadata": {
        "id": "_R4FXHJlE_5o",
        "colab": {
          "base_uri": "https://localhost:8080/"
        },
        "outputId": "e76deed4-63b5-478e-d38d-ae5e1f221bf5"
      },
      "execution_count": 23,
      "outputs": [
        {
          "output_type": "execute_result",
          "data": {
            "text/plain": [
              "('Lisa',\n",
              " 'Jennie',\n",
              " 'Jisoo',\n",
              " 'Rosie',\n",
              " 'Chiquita',\n",
              " 'Pharita',\n",
              " 'Ahyeon',\n",
              " 'Asa',\n",
              " 'Rora',\n",
              " 'Haram',\n",
              " 'Ruka')"
            ]
          },
          "metadata": {},
          "execution_count": 23
        }
      ]
    }
  ]
}