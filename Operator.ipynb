{
  "nbformat": 4,
  "nbformat_minor": 0,
  "metadata": {
    "colab": {
      "provenance": []
    },
    "kernelspec": {
      "name": "python3",
      "display_name": "Python 3"
    },
    "language_info": {
      "name": "python"
    }
  },
  "cells": [
    {
      "cell_type": "markdown",
      "source": [
        "#**OPERATOR**"
      ],
      "metadata": {
        "id": "RTRXcNXXF-aq"
      }
    },
    {
      "cell_type": "markdown",
      "source": [
        "Operator simbol simbol yang dapat digunakan untuk mengubah nilai dari satu variabel dengan melibatkan satu atau lebih variabel dan literal.\n",
        "Tipe-tipe operator :\n",
        "1. Operator Aritmetka\n",
        "2. Operator Assignment\n",
        "3. Operator Pembanding\n",
        "4. Operator Logika\n",
        "5. Operator Membership"
      ],
      "metadata": {
        "id": "qb6vzQGCGGcG"
      }
    },
    {
      "cell_type": "markdown",
      "source": [
        "# Operator Aritmatika"
      ],
      "metadata": {
        "id": "jdADc8Wf_q-C"
      }
    },
    {
      "cell_type": "markdown",
      "source": [
        "Operator Aritmatika digunakan untuk melakukan operasi matematika yang umum.\n",
        "Macam macam Operator Atmatika, yaitu :\n",
        "\n",
        "(+) : penjumlahan\n",
        "\n",
        "(-) : pengurangan\n",
        "\n",
        "(*) : perkalian\n",
        "\n",
        "(/) : pembagian\n",
        "\n",
        "(%) : modulus\n",
        "\n",
        "(**) : berpangkatan\n",
        "\n",
        "(//) : pembagian dengan hasil pembulatan flooring"
      ],
      "metadata": {
        "id": "0sJ-J2Xz_hrG"
      }
    },
    {
      "cell_type": "markdown",
      "source": [
        "**Contoh Penggunaan Operator Aritmatika**"
      ],
      "metadata": {
        "id": "UGhLugpyFxvM"
      }
    },
    {
      "cell_type": "code",
      "execution_count": null,
      "metadata": {
        "id": "xg-Vg27d86aH"
      },
      "outputs": [],
      "source": [
        "#penjumlahan\n",
        "print ('penjumlahan')\n",
        "print (2+2)\n",
        "#pengurangan\n",
        "print ('pengurangan')\n",
        "print ('-'*20)\n",
        "print (2-3)\n",
        "#perkalian\n",
        "print ('perkalian')\n",
        "print ('-'*20)\n",
        "print (2*3)\n",
        "#pembagian\n",
        "print ('pembagian')\n",
        "print ('-'*20)\n",
        "print (2/3)\n",
        "#modulus\n",
        "print ('modulus')\n",
        "print ('-'*20)\n",
        "print (3%2)\n",
        "#perpangkatan\n",
        "print ('perpangkatan')\n",
        "print ('-'*20)\n",
        "print (2**3)\n",
        "#pembagian dengan hasil pembulatan flooring\n",
        "print ('pembagian pembulatan flooring')\n",
        "print ('-'*20)\n",
        "print (3//2)"
      ]
    },
    {
      "cell_type": "markdown",
      "source": [
        "**Latihan Operator 1**"
      ],
      "metadata": {
        "id": "kI1o4YibJD4A"
      }
    },
    {
      "cell_type": "markdown",
      "source": [
        "Buatlah Program penerapan operator Aritmatika dengan nilai - nilai yang berbeda dari contoh diatas"
      ],
      "metadata": {
        "id": "CXEcy4KvFvrA"
      }
    },
    {
      "cell_type": "code",
      "source": [
        "#penjumlahan\n",
        "print ('penjumlahan')\n",
        "print (10+4)\n",
        "#pengurangan\n",
        "print ('pengurangan')\n",
        "print ('-'*20)\n",
        "print (14-1)\n",
        "#perkalian\n",
        "print ('perkalian')\n",
        "print ('-'*20)\n",
        "print (10*10)\n",
        "#pembagian\n",
        "print ('pembagian')\n",
        "print ('-'*20)\n",
        "print (100/2)\n",
        "#modulus\n",
        "print ('modulus')\n",
        "print ('-'*20)\n",
        "print (10%5)\n",
        "#perpangkatan\n",
        "print ('perpangkatan')\n",
        "print ('-'*20)\n",
        "print (2**12)\n",
        "#pembagian dengan hasil pembulatan flooring\n",
        "print ('pembagian pembulatan flooring')\n",
        "print ('-'*20)\n",
        "print (100//15)"
      ],
      "metadata": {
        "colab": {
          "base_uri": "https://localhost:8080/",
          "height": 0
        },
        "id": "lCBOQiNHIfBS",
        "outputId": "724e2b06-3b44-472d-fb2e-3a50b6472a42"
      },
      "execution_count": 2,
      "outputs": [
        {
          "output_type": "stream",
          "name": "stdout",
          "text": [
            "penjumlahan\n",
            "14\n",
            "pengurangan\n",
            "--------------------\n",
            "13\n",
            "perkalian\n",
            "--------------------\n",
            "100\n",
            "pembagian\n",
            "--------------------\n",
            "50.0\n",
            "modulus\n",
            "--------------------\n",
            "0\n",
            "perpangkatan\n",
            "--------------------\n",
            "4096\n",
            "pembagian pembulatan flooring\n",
            "--------------------\n",
            "6\n"
          ]
        }
      ]
    },
    {
      "cell_type": "markdown",
      "source": [
        "# Operator Assignment"
      ],
      "metadata": {
        "id": "6H5UBOpTMDEv"
      }
    },
    {
      "cell_type": "markdown",
      "source": [
        "Operator Assignment digunakan untuk menyimpan nilai menjadi suatu variabel"
      ],
      "metadata": {
        "id": "HQPK0p3gMJqm"
      }
    },
    {
      "cell_type": "markdown",
      "source": [
        "**Contoh Penggunaan Operator Assignment**"
      ],
      "metadata": {
        "id": "rRpcrcTAOUjw"
      }
    },
    {
      "cell_type": "code",
      "source": [
        "#Penjumlahan\n",
        "print('Penjumlahan')\n",
        "x=5\n",
        "x=x+5\n",
        "print(x)\n",
        "x=5\n",
        "x+=5\n",
        "print(x)\n",
        "print('-'*20)\n",
        "\n",
        "#Pengurangan\n",
        "print ('Pengurangan')\n",
        "x=5\n",
        "x=x-5\n",
        "print(x)\n",
        "x=5\n",
        "x-=3\n",
        "print(x)\n",
        "print('-'*20)\n",
        "\n",
        "#Perkalian\n",
        "print('Perkalian')\n",
        "x=5\n",
        "x=x*5\n",
        "print(x)\n",
        "x=5\n",
        "x*=3\n",
        "print(x)\n",
        "print('-'*20)\n",
        "\n",
        "#Pembagian\n",
        "print('pembagian')\n",
        "x=5\n",
        "x=x/5\n",
        "print(x)\n",
        "x=5\n",
        "x/=3\n",
        "print (x)\n",
        "print('-'*20)\n",
        "\n",
        "#Modulus\n",
        "print('Modulus')\n",
        "x=5\n",
        "x=x%5\n",
        "print(x)\n",
        "x=5\n",
        "x%=3\n",
        "print(x)\n",
        "print('-'*20)\n",
        "\n",
        "#Pembagian Flooring\n",
        "print('Pembagian Flooring')\n",
        "x=5\n",
        "x=x//5\n",
        "print(x)\n",
        "x=5\n",
        "x//=3\n",
        "print(x)\n",
        "print('-'*20)\n",
        "\n",
        "#Perpangkatan\n",
        "print('Perpangkatan')\n",
        "x=5\n",
        "x=x**5\n",
        "print(x)\n",
        "x=5\n",
        "x**=3\n",
        "print(x)\n",
        "print('-'*20)"
      ],
      "metadata": {
        "colab": {
          "base_uri": "https://localhost:8080/",
          "height": 0
        },
        "id": "VFqCXesJMFAw",
        "outputId": "da7e719f-3897-4543-c3c1-3bfefb167bb1"
      },
      "execution_count": 5,
      "outputs": [
        {
          "output_type": "stream",
          "name": "stdout",
          "text": [
            "Penjumlahan\n",
            "10\n",
            "10\n",
            "--------------------\n",
            "Pengurangan\n",
            "0\n",
            "2\n",
            "--------------------\n",
            "Perkalian\n",
            "25\n",
            "15\n",
            "--------------------\n",
            "pembagian\n",
            "1.0\n",
            "1.6666666666666667\n",
            "--------------------\n",
            "Modulus\n",
            "0\n",
            "2\n",
            "--------------------\n",
            "Pembagian Flooring\n",
            "1\n",
            "1\n",
            "--------------------\n",
            "Perpangkatan\n",
            "3125\n",
            "125\n",
            "--------------------\n"
          ]
        }
      ]
    },
    {
      "cell_type": "markdown",
      "source": [
        "**Latihan Operator 2**"
      ],
      "metadata": {
        "id": "tGNT3uLFQ5gP"
      }
    },
    {
      "cell_type": "markdown",
      "source": [
        " Buatlah program penerapan operator assignment dengan nilai nilai yang berbeda dari contoh diatas"
      ],
      "metadata": {
        "id": "WqQrrBLHR7PY"
      }
    },
    {
      "cell_type": "code",
      "source": [
        "#Penjumlahan\n",
        "print('Penjumlahan')\n",
        "x=10\n",
        "x=x+5\n",
        "print(x)\n",
        "x=100\n",
        "x+=500\n",
        "print(x)\n",
        "print('-'*20)\n",
        "\n",
        "#Pengurangan\n",
        "print ('Pengurangan')\n",
        "x=1000\n",
        "x=x-999\n",
        "print(x)\n",
        "x=7\n",
        "x-=6\n",
        "print(x)\n",
        "print('-'*20)\n",
        "\n",
        "#Perkalian\n",
        "print('Perkalian')\n",
        "x=90\n",
        "x=x*0\n",
        "print(x)\n",
        "x=8\n",
        "x*=8\n",
        "print(x)\n",
        "print('-'*20)\n",
        "\n",
        "#Pembagian\n",
        "print('pembagian')\n",
        "x=50\n",
        "x=x/5\n",
        "print(x)\n",
        "x=15\n",
        "x/=3\n",
        "print (x)\n",
        "print('-'*20)\n",
        "\n",
        "#Modulus\n",
        "print('Modulus')\n",
        "x=15\n",
        "x=x%8\n",
        "print(x)\n",
        "x=10\n",
        "x%=9\n",
        "print(x)\n",
        "print('-'*20)\n",
        "\n",
        "#Pembagian Flooring\n",
        "print('Pembagian Flooring')\n",
        "x=2\n",
        "x=x//6\n",
        "print(x)\n",
        "x=2\n",
        "x//=2\n",
        "print(x)\n",
        "print('-'*20)\n",
        "\n",
        "#Perpangkatan\n",
        "print('Perpangkatan')\n",
        "x=3\n",
        "x=x**15\n",
        "print(x)\n",
        "x=3\n",
        "x**=5\n",
        "print(x)\n",
        "print('-'*20)"
      ],
      "metadata": {
        "colab": {
          "base_uri": "https://localhost:8080/",
          "height": 0
        },
        "id": "MBWTRaLhQ-I-",
        "outputId": "cea56a79-a17f-4b5f-dfab-e8a38a298ffc"
      },
      "execution_count": 10,
      "outputs": [
        {
          "output_type": "stream",
          "name": "stdout",
          "text": [
            "Penjumlahan\n",
            "15\n",
            "600\n",
            "--------------------\n",
            "Pengurangan\n",
            "1\n",
            "1\n",
            "--------------------\n",
            "Perkalian\n",
            "0\n",
            "64\n",
            "--------------------\n",
            "pembagian\n",
            "10.0\n",
            "5.0\n",
            "--------------------\n",
            "Modulus\n",
            "7\n",
            "1\n",
            "--------------------\n",
            "Pembagian Flooring\n",
            "0\n",
            "1\n",
            "--------------------\n",
            "Perpangkatan\n",
            "14348907\n",
            "243\n",
            "--------------------\n"
          ]
        }
      ]
    },
    {
      "cell_type": "markdown",
      "source": [
        "# Operator Pembanding"
      ],
      "metadata": {
        "id": "aexlwX5GTtO4"
      }
    },
    {
      "cell_type": "markdown",
      "source": [
        "Operator Pembanding digunakan untuk membandingkan 2 nilai atau variabel"
      ],
      "metadata": {
        "id": "LgSszu5wTy_W"
      }
    },
    {
      "cell_type": "markdown",
      "source": [
        "Operator Pembanding digunakan untuk membandingkan 2 nilai atau variabel"
      ],
      "metadata": {
        "id": "g4DEUzB2UT38"
      }
    },
    {
      "cell_type": "code",
      "source": [
        "print(2==2)\n",
        "print(2!=2)\n",
        "print(2>2)\n",
        "print(2<2)\n",
        "print(2>=2)\n",
        "print(2<=2)"
      ],
      "metadata": {
        "colab": {
          "base_uri": "https://localhost:8080/",
          "height": 0
        },
        "id": "pxWPAlkoSuqY",
        "outputId": "3eef0df4-6d85-4620-8a1e-fc1a1937d9af"
      },
      "execution_count": 11,
      "outputs": [
        {
          "output_type": "stream",
          "name": "stdout",
          "text": [
            "True\n",
            "False\n",
            "False\n",
            "False\n",
            "True\n",
            "True\n"
          ]
        }
      ]
    },
    {
      "cell_type": "markdown",
      "source": [
        "**Latihan Operator 3**"
      ],
      "metadata": {
        "id": "AosF71tIUrb9"
      }
    },
    {
      "cell_type": "markdown",
      "source": [
        "Buatlah program penerapan operator pembanding dengan nilai nilai yang berbeda dari contoh diatas"
      ],
      "metadata": {
        "id": "Oky7Pl42U20S"
      }
    },
    {
      "cell_type": "code",
      "source": [
        "print(1==1)\n",
        "print(3!=1)\n",
        "print(3>4)\n",
        "print(5<6)\n",
        "print(3>=4)\n",
        "print(3<=4)"
      ],
      "metadata": {
        "colab": {
          "base_uri": "https://localhost:8080/",
          "height": 0
        },
        "id": "Gs4IebKYUw0Q",
        "outputId": "5904731e-97a7-4ae2-ecc4-2752bb1b6337"
      },
      "execution_count": 12,
      "outputs": [
        {
          "output_type": "stream",
          "name": "stdout",
          "text": [
            "True\n",
            "True\n",
            "False\n",
            "True\n",
            "False\n",
            "True\n"
          ]
        }
      ]
    },
    {
      "cell_type": "markdown",
      "source": [
        "# Operator Logika"
      ],
      "metadata": {
        "id": "H1GctaD_VNvr"
      }
    },
    {
      "cell_type": "markdown",
      "source": [
        "Operator logika digunakan untuk mengkombinasikan statement statement kondisional\n",
        "Macam macam opertaor logika:\n",
        "\n",
        "and -> kondisi menjadi benar apabila semua statementnya benar\n",
        "\n",
        "or -> kondisi menjadi benar apabila salah satu statementnya ada yang benar\n",
        "\n",
        "not -> membalik hasil adri benar ke salah dan salah ke benar"
      ],
      "metadata": {
        "id": "063t-mqtVWnX"
      }
    },
    {
      "cell_type": "markdown",
      "source": [
        "**Contoh penggunaan operator logika**"
      ],
      "metadata": {
        "id": "MMJbM_X1VlDh"
      }
    },
    {
      "cell_type": "code",
      "source": [
        "print(True and False)\n",
        "print(False or False)\n",
        "print(not False and True)"
      ],
      "metadata": {
        "colab": {
          "base_uri": "https://localhost:8080/",
          "height": 0
        },
        "id": "31U_J7P1VRO_",
        "outputId": "d1f8c28d-cc26-4f86-bf3b-cd2bb91a7f0b"
      },
      "execution_count": 13,
      "outputs": [
        {
          "output_type": "stream",
          "name": "stdout",
          "text": [
            "False\n",
            "False\n",
            "True\n"
          ]
        }
      ]
    },
    {
      "cell_type": "markdown",
      "source": [
        "**Latihan Operator 4**"
      ],
      "metadata": {
        "id": "srZ2A9CHWTGh"
      }
    },
    {
      "cell_type": "markdown",
      "source": [
        "Buatlah program penerapan operator logika dengan nilai nilai yang berbeda dari contoh diatas"
      ],
      "metadata": {
        "id": "WIySoJlXbRZ-"
      }
    },
    {
      "cell_type": "code",
      "source": [
        "print(True and True)\n",
        "print(True or False)\n",
        "print(not True and True)"
      ],
      "metadata": {
        "colab": {
          "base_uri": "https://localhost:8080/",
          "height": 0
        },
        "id": "CjPhiVqtbQvi",
        "outputId": "e5040536-2ce0-4719-d1e8-1cc71bb18f23"
      },
      "execution_count": 14,
      "outputs": [
        {
          "output_type": "stream",
          "name": "stdout",
          "text": [
            "True\n",
            "True\n",
            "False\n"
          ]
        }
      ]
    },
    {
      "cell_type": "markdown",
      "source": [
        "# Operator Membership / Keanggotaan"
      ],
      "metadata": {
        "id": "6S2QDYYYbkeO"
      }
    },
    {
      "cell_type": "markdown",
      "source": [
        "Operator keanggotaan digunakan untuk menguji apakah urutan disajikan dalam suatu objek\n",
        "\n",
        "Macam macam operator Keanggotaan :\n",
        "\n",
        "in -> return True ketika nilai tertentu dalam sebuah urutan ada\n",
        "\n",
        "not in > return True ketika nilai tertentu dalam sebuah uruta tidak ada"
      ],
      "metadata": {
        "id": "bif12qtRbuPN"
      }
    },
    {
      "cell_type": "markdown",
      "source": [
        "**Contoh penggunaan operator keanggotaan**"
      ],
      "metadata": {
        "id": "Ns2nEYbIbz1A"
      }
    },
    {
      "cell_type": "code",
      "source": [
        "a=(1,2,3,4,5,6)\n",
        "b=2\n",
        "print(b in a)\n",
        "\n",
        "\n",
        "print('-'*20)\n",
        "a=(1,2,3,4,5,6)\n",
        "b=7\n",
        "print(b not in a)"
      ],
      "metadata": {
        "colab": {
          "base_uri": "https://localhost:8080/",
          "height": 0
        },
        "id": "B9slTgO3bpkP",
        "outputId": "6782967e-df28-41e7-f83e-2e6ae8ffc35b"
      },
      "execution_count": 16,
      "outputs": [
        {
          "output_type": "stream",
          "name": "stdout",
          "text": [
            "True\n",
            "--------------------\n",
            "True\n"
          ]
        }
      ]
    },
    {
      "cell_type": "markdown",
      "source": [
        "**Latihan Operator 5**"
      ],
      "metadata": {
        "id": "Y9aXitdJcSbQ"
      }
    },
    {
      "cell_type": "markdown",
      "source": [
        "Buatlah program penerapan operator keanggotaan membership dengan nilai nilai yang berbeda dari contoh diatas"
      ],
      "metadata": {
        "id": "D0N3nR3QcaB5"
      }
    },
    {
      "cell_type": "code",
      "source": [
        "a=(1,2,3,4,5,6,7,8,9)\n",
        "b=5\n",
        "print(b in a)\n",
        "\n",
        "\n",
        "print('-'*20)\n",
        "a=(1,2,3,4,5,6,7,8,9)\n",
        "b=3\n",
        "print(b not in a)"
      ],
      "metadata": {
        "colab": {
          "base_uri": "https://localhost:8080/",
          "height": 0
        },
        "id": "OPEbgeqxcWCa",
        "outputId": "b32b7ed5-2532-4e41-9fd1-77a93e0ca46c"
      },
      "execution_count": 17,
      "outputs": [
        {
          "output_type": "stream",
          "name": "stdout",
          "text": [
            "True\n",
            "--------------------\n",
            "False\n"
          ]
        }
      ]
    },
    {
      "cell_type": "markdown",
      "source": [
        "## Variabel"
      ],
      "metadata": {
        "id": "4UeyGaKGcytE"
      }
    },
    {
      "cell_type": "markdown",
      "source": [
        "\n",
        "Variabel: Lokal penyimpanan yang dapat digunakan untuk menampung sebuah data atau informasi.\n",
        "Syarat syarat penamaan variabel\n",
        "\n",
        "1. Karakter - karakter yang digunakan untuk penamaan variable adalah alphabet, angka dan underscore.\n",
        "2. Karakter pertama variabel harus berupa huruf atau garis bawah/underscore, dan tidak bisa berupa angka\n",
        "\n",
        "3. Nama sebuah variabel tidak bisa menggunakan keyword atau reserved words dari bahasa python seperti for, if dan lainnya\n",
        "4. Karakter pada nama variabel bersifat sensitif (case-sensitif)"
      ],
      "metadata": {
        "id": "l0Z7MPbmc5cC"
      }
    },
    {
      "cell_type": "code",
      "source": [
        "# membuat variabel\n",
        "kalimat ='ini adalah variabel'\n",
        "bilangan1 = 4\n",
        "bilangan2 = 2.5\n",
        "bilangan3 = True\n",
        "bilangan4 = 1j + 4\n",
        "\n",
        "# menampilkan variabel\n",
        "print(kalimat)\n",
        "print(bilangan1)\n",
        "print(bilangan2)\n",
        "print(bilangan3)\n",
        "print(bilangan4)"
      ],
      "metadata": {
        "colab": {
          "base_uri": "https://localhost:8080/",
          "height": 0
        },
        "id": "SCqJjxn5c3__",
        "outputId": "693e7f01-ffb6-4343-f38b-ff273e901800"
      },
      "execution_count": 43,
      "outputs": [
        {
          "output_type": "stream",
          "name": "stdout",
          "text": [
            "ini adalah variabel\n",
            "4\n",
            "2.5\n",
            "True\n",
            "(4+1j)\n"
          ]
        }
      ]
    },
    {
      "cell_type": "markdown",
      "source": [
        "**Latihan 1**"
      ],
      "metadata": {
        "id": "0xP3i_6QeDzt"
      }
    },
    {
      "cell_type": "markdown",
      "source": [
        "buatlah 5 variabel kalian sendiri dengan 5 macam tipe data lalu tampilkan variabel menggunakan fungsi print"
      ],
      "metadata": {
        "id": "9XMnaEC0ek2b"
      }
    },
    {
      "cell_type": "code",
      "source": [
        "# membuat variabel\n",
        "kalimat ='aku ganteng'\n",
        "bilangan1 = 20 + 22j\n",
        "bilangan2 = 14.4\n",
        "bilangan3 = 2023\n",
        "bilangan4 = True\n",
        "\n",
        "# menampilkan variabel\n",
        "print(kalimat)\n",
        "print(bilangan1)\n",
        "print(bilangan2)\n",
        "print(bilangan3)\n",
        "print(bilangan4)"
      ],
      "metadata": {
        "colab": {
          "base_uri": "https://localhost:8080/",
          "height": 0
        },
        "id": "SzxXMk4UeG6J",
        "outputId": "7f6b7834-2d39-4ddc-ee69-b9a9ca25d4ec"
      },
      "execution_count": 48,
      "outputs": [
        {
          "output_type": "stream",
          "name": "stdout",
          "text": [
            "aku ganteng\n",
            "(20+22j)\n",
            "14.4\n",
            "2023\n",
            "True\n"
          ]
        }
      ]
    },
    {
      "cell_type": "markdown",
      "source": [
        "# Tipe Data & Konversi Tipe Data"
      ],
      "metadata": {
        "id": "lKgLNeWHexDQ"
      }
    },
    {
      "cell_type": "markdown",
      "source": [
        "**Tipe data**"
      ],
      "metadata": {
        "id": "GhE9tdDve3yF"
      }
    },
    {
      "cell_type": "markdown",
      "source": [
        "5 tipe data yaitu\n",
        "\n",
        "1. Integr atau bilangan bulat\n",
        "\n",
        "2. Float atau bilangan desimal\n",
        "\n",
        "3. string atau kalimat\n",
        "\n",
        "4. Boolean yang terdiri dari True dan False\n",
        "\n",
        "5. Complex yang merupakan bilangan kompleks"
      ],
      "metadata": {
        "id": "_UkwGo82fAau"
      }
    },
    {
      "cell_type": "code",
      "source": [
        "# menampilkan tipe data\n",
        "print(type(kalimat))\n",
        "print(type(bilangan1))\n",
        "print(type(bilangan2))\n",
        "print(type(bilangan3))\n",
        "print(type(bilangan4))"
      ],
      "metadata": {
        "colab": {
          "base_uri": "https://localhost:8080/",
          "height": 0
        },
        "id": "ptiiPSVGe2Xh",
        "outputId": "16218ce8-8571-46c3-dc0e-5ff73a1196c7"
      },
      "execution_count": 44,
      "outputs": [
        {
          "output_type": "stream",
          "name": "stdout",
          "text": [
            "<class 'str'>\n",
            "<class 'int'>\n",
            "<class 'float'>\n",
            "<class 'bool'>\n",
            "<class 'complex'>\n"
          ]
        }
      ]
    },
    {
      "cell_type": "markdown",
      "source": [
        "**Latihan 2**"
      ],
      "metadata": {
        "id": "yjfTEDkTfrdO"
      }
    },
    {
      "cell_type": "markdown",
      "source": [
        "cek tipe data variabel yang telah kalian buat pada latihan 1"
      ],
      "metadata": {
        "id": "6-3qfv0ffvdz"
      }
    },
    {
      "cell_type": "code",
      "source": [
        "# menampilkan tipe data\n",
        "print(type(kalimat))\n",
        "print(type(bilangan1))\n",
        "print(type(bilangan2))\n",
        "print(type(bilangan3))\n",
        "print(type(bilangan4))"
      ],
      "metadata": {
        "colab": {
          "base_uri": "https://localhost:8080/",
          "height": 0
        },
        "id": "sx73rWI8fueB",
        "outputId": "70f888af-e6dd-4ad5-8cde-cd8ac3ccee52"
      },
      "execution_count": 49,
      "outputs": [
        {
          "output_type": "stream",
          "name": "stdout",
          "text": [
            "<class 'str'>\n",
            "<class 'complex'>\n",
            "<class 'float'>\n",
            "<class 'int'>\n",
            "<class 'bool'>\n"
          ]
        }
      ]
    },
    {
      "cell_type": "markdown",
      "source": [
        "# Konversi Tipe Data"
      ],
      "metadata": {
        "id": "ploTkWFmf4xy"
      }
    },
    {
      "cell_type": "code",
      "source": [
        "# konversi tipe data integer\n",
        "print(int(bilangan2))\n",
        "print(int(bilangan3))\n",
        "\n",
        "# konversi tipe data float\n",
        "print(float(bilangan1))\n",
        "print(float(bilangan3))\n",
        "\n",
        "# konversi tipe data string\n",
        "print(str(bilangan1))\n",
        "print(str(bilangan2))\n",
        "print(str(bilangan3))\n",
        "\n",
        "# konversi tipe data bool\n",
        "print(bool(bilangan1))\n",
        "print(bool(bilangan2))\n",
        "\n",
        "# konversi tipe data complex\n",
        "print(complex(bilangan1))\n",
        "print(complex(bilangan2))\n",
        "print(complex(bilangan3))"
      ],
      "metadata": {
        "colab": {
          "base_uri": "https://localhost:8080/",
          "height": 0
        },
        "id": "nST_1Ksyf807",
        "outputId": "8bd826ce-d14a-4ffa-c5dd-cb2798413f80"
      },
      "execution_count": 23,
      "outputs": [
        {
          "output_type": "stream",
          "name": "stdout",
          "text": [
            "2\n",
            "1\n",
            "4.0\n",
            "1.0\n",
            "4\n",
            "2.5\n",
            "True\n",
            "True\n",
            "True\n",
            "(4+0j)\n",
            "(2.5+0j)\n",
            "(1+0j)\n"
          ]
        }
      ]
    },
    {
      "cell_type": "markdown",
      "source": [
        "**Latihan 3**"
      ],
      "metadata": {
        "id": "KNXXPXOpgul8"
      }
    },
    {
      "cell_type": "markdown",
      "source": [
        "konversi tipe data yang telah kalian buat menjadi berbagai macam tipe data"
      ],
      "metadata": {
        "id": "ma3eRyl2g1Yy"
      }
    },
    {
      "cell_type": "code",
      "source": [
        "# konversi tipe data integer\n",
        "print(int(bilangan3))\n",
        "print(int(bilangan4))\n",
        "\n",
        "# konversi tipe data float\n",
        "print(float(bilangan2))\n",
        "print(float(bilangan4))\n",
        "\n",
        "# konversi tipe data string\n",
        "print(str(bilangan1))\n",
        "print(str(bilangan2))\n",
        "print(str(bilangan3))\n",
        "\n",
        "# konversi tipe data bool\n",
        "print(bool(bilangan1))\n",
        "print(bool(bilangan2))\n",
        "\n",
        "# konversi tipe data complex\n",
        "print(complex(bilangan1))\n",
        "print(complex(bilangan2))\n",
        "print(complex(bilangan3))"
      ],
      "metadata": {
        "colab": {
          "base_uri": "https://localhost:8080/",
          "height": 0
        },
        "id": "tZVQ2Y2Dg0lM",
        "outputId": "1fecdfed-c205-44fe-c2eb-1d714ae331d5"
      },
      "execution_count": 58,
      "outputs": [
        {
          "output_type": "stream",
          "name": "stdout",
          "text": [
            "2023\n",
            "1\n",
            "14.4\n",
            "1.0\n",
            "(20+22j)\n",
            "14.4\n",
            "2023\n",
            "True\n",
            "True\n",
            "(20+22j)\n",
            "(14.4+0j)\n",
            "(2023+0j)\n"
          ]
        }
      ]
    }
  ]
}