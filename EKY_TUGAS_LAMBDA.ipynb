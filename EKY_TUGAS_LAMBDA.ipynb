{
  "nbformat": 4,
  "nbformat_minor": 0,
  "metadata": {
    "colab": {
      "provenance": [],
      "authorship_tag": "ABX9TyNmtXGQSlvqqF3TnCcd5aZs",
      "include_colab_link": true
    },
    "kernelspec": {
      "name": "python3",
      "display_name": "Python 3"
    },
    "language_info": {
      "name": "python"
    }
  },
  "cells": [
    {
      "cell_type": "markdown",
      "metadata": {
        "id": "view-in-github",
        "colab_type": "text"
      },
      "source": [
        "<a href=\"https://colab.research.google.com/github/ekyndr/PSDS-DASAR/blob/main/EKY_TUGAS_LAMBDA.ipynb\" target=\"_parent\"><img src=\"https://colab.research.google.com/assets/colab-badge.svg\" alt=\"Open In Colab\"/></a>"
      ]
    },
    {
      "cell_type": "markdown",
      "source": [
        "**EKY ANDRYAN (2100015038)**"
      ],
      "metadata": {
        "id": "JaFWx9mfAict"
      }
    },
    {
      "cell_type": "markdown",
      "source": [
        "**1. Buatlah fungsi lambda untuk menghitung fungsi dari persegi panjang**"
      ],
      "metadata": {
        "id": "dyEuBcBSAUKu"
      }
    },
    {
      "cell_type": "code",
      "execution_count": 2,
      "metadata": {
        "colab": {
          "base_uri": "https://localhost:8080/"
        },
        "id": "UOiTQzDl_vGJ",
        "outputId": "6fba4348-b83c-4ed7-9fbe-dfe5e2ccff95"
      },
      "outputs": [
        {
          "output_type": "stream",
          "name": "stdout",
          "text": [
            "Luas persegi panjang: 300\n"
          ]
        }
      ],
      "source": [
        "luas_persegi_panjang = lambda panjang, lebar: panjang * lebar\n",
        "p = 20\n",
        "l = 15\n",
        "luas = luas_persegi_panjang(p, l)\n",
        "print(\"Luas persegi panjang:\", luas)"
      ]
    },
    {
      "cell_type": "markdown",
      "source": [
        "**2. Buatlah fungsi lambda untuk menghitung luas dari segitiga**"
      ],
      "metadata": {
        "id": "lrNoo1qqA7lJ"
      }
    },
    {
      "cell_type": "code",
      "source": [
        "luas_segitiga = lambda alas, tinggi: (alas * tinggi) / 2\n",
        "a = 10\n",
        "t = 5\n",
        "luas = luas_segitiga(a, t)\n",
        "print(\"Luas segitiga:\", luas)"
      ],
      "metadata": {
        "colab": {
          "base_uri": "https://localhost:8080/"
        },
        "id": "imJWtc7xBASh",
        "outputId": "80a0a6d2-5bf2-4663-b3a3-bdd1e2ed4908"
      },
      "execution_count": 3,
      "outputs": [
        {
          "output_type": "stream",
          "name": "stdout",
          "text": [
            "Luas segitiga: 25.0\n"
          ]
        }
      ]
    }
  ]
}